{
  "nbformat": 4,
  "nbformat_minor": 0,
  "metadata": {
    "kernelspec": {
      "display_name": "Python 3",
      "language": "python",
      "name": "python3"
    },
    "language_info": {
      "codemirror_mode": {
        "name": "ipython",
        "version": 3
      },
      "file_extension": ".py",
      "mimetype": "text/x-python",
      "name": "python",
      "nbconvert_exporter": "python",
      "pygments_lexer": "ipython3",
      "version": "3.7.0"
    },
    "colab": {
      "name": "tutorial_01_mnist_tutorial.ipynb",
      "provenance": []
    },
    "widgets": {
      "application/vnd.jupyter.widget-state+json": {
        "f9f87e2fa8a44dba89ac06cb0ab1b926": {
          "model_module": "@jupyter-widgets/controls",
          "model_name": "HBoxModel",
          "state": {
            "_view_name": "HBoxView",
            "_dom_classes": [],
            "_model_name": "HBoxModel",
            "_view_module": "@jupyter-widgets/controls",
            "_model_module_version": "1.5.0",
            "_view_count": null,
            "_view_module_version": "1.5.0",
            "box_style": "",
            "layout": "IPY_MODEL_f32cb999e37b47ed910ebad66d8f1d3c",
            "_model_module": "@jupyter-widgets/controls",
            "children": [
              "IPY_MODEL_01f148a195a34082bef4d03a68f5e469",
              "IPY_MODEL_bf0a7209b54447e7846c56afa7e26be3"
            ]
          }
        },
        "f32cb999e37b47ed910ebad66d8f1d3c": {
          "model_module": "@jupyter-widgets/base",
          "model_name": "LayoutModel",
          "state": {
            "_view_name": "LayoutView",
            "grid_template_rows": null,
            "right": null,
            "justify_content": null,
            "_view_module": "@jupyter-widgets/base",
            "overflow": null,
            "_model_module_version": "1.2.0",
            "_view_count": null,
            "flex_flow": null,
            "width": null,
            "min_width": null,
            "border": null,
            "align_items": null,
            "bottom": null,
            "_model_module": "@jupyter-widgets/base",
            "top": null,
            "grid_column": null,
            "overflow_y": null,
            "overflow_x": null,
            "grid_auto_flow": null,
            "grid_area": null,
            "grid_template_columns": null,
            "flex": null,
            "_model_name": "LayoutModel",
            "justify_items": null,
            "grid_row": null,
            "max_height": null,
            "align_content": null,
            "visibility": null,
            "align_self": null,
            "height": null,
            "min_height": null,
            "padding": null,
            "grid_auto_rows": null,
            "grid_gap": null,
            "max_width": null,
            "order": null,
            "_view_module_version": "1.2.0",
            "grid_template_areas": null,
            "object_position": null,
            "object_fit": null,
            "grid_auto_columns": null,
            "margin": null,
            "display": null,
            "left": null
          }
        },
        "01f148a195a34082bef4d03a68f5e469": {
          "model_module": "@jupyter-widgets/controls",
          "model_name": "FloatProgressModel",
          "state": {
            "_view_name": "ProgressView",
            "style": "IPY_MODEL_6ec801086f504e84839af5db90b478dd",
            "_dom_classes": [],
            "description": "",
            "_model_name": "FloatProgressModel",
            "bar_style": "info",
            "max": 1,
            "_view_module": "@jupyter-widgets/controls",
            "_model_module_version": "1.5.0",
            "value": 1,
            "_view_count": null,
            "_view_module_version": "1.5.0",
            "orientation": "horizontal",
            "min": 0,
            "description_tooltip": null,
            "_model_module": "@jupyter-widgets/controls",
            "layout": "IPY_MODEL_f65c8bb7b23248a88ebb617b2c95877f"
          }
        },
        "bf0a7209b54447e7846c56afa7e26be3": {
          "model_module": "@jupyter-widgets/controls",
          "model_name": "HTMLModel",
          "state": {
            "_view_name": "HTMLView",
            "style": "IPY_MODEL_028efaedeca94b72b2b66a7814208058",
            "_dom_classes": [],
            "description": "",
            "_model_name": "HTMLModel",
            "placeholder": "​",
            "_view_module": "@jupyter-widgets/controls",
            "_model_module_version": "1.5.0",
            "value": " 9920512/? [00:20&lt;00:00, 1032020.89it/s]",
            "_view_count": null,
            "_view_module_version": "1.5.0",
            "description_tooltip": null,
            "_model_module": "@jupyter-widgets/controls",
            "layout": "IPY_MODEL_a0cea30db76147d7b74d54d1e4ff572a"
          }
        },
        "6ec801086f504e84839af5db90b478dd": {
          "model_module": "@jupyter-widgets/controls",
          "model_name": "ProgressStyleModel",
          "state": {
            "_view_name": "StyleView",
            "_model_name": "ProgressStyleModel",
            "description_width": "initial",
            "_view_module": "@jupyter-widgets/base",
            "_model_module_version": "1.5.0",
            "_view_count": null,
            "_view_module_version": "1.2.0",
            "bar_color": null,
            "_model_module": "@jupyter-widgets/controls"
          }
        },
        "f65c8bb7b23248a88ebb617b2c95877f": {
          "model_module": "@jupyter-widgets/base",
          "model_name": "LayoutModel",
          "state": {
            "_view_name": "LayoutView",
            "grid_template_rows": null,
            "right": null,
            "justify_content": null,
            "_view_module": "@jupyter-widgets/base",
            "overflow": null,
            "_model_module_version": "1.2.0",
            "_view_count": null,
            "flex_flow": null,
            "width": null,
            "min_width": null,
            "border": null,
            "align_items": null,
            "bottom": null,
            "_model_module": "@jupyter-widgets/base",
            "top": null,
            "grid_column": null,
            "overflow_y": null,
            "overflow_x": null,
            "grid_auto_flow": null,
            "grid_area": null,
            "grid_template_columns": null,
            "flex": null,
            "_model_name": "LayoutModel",
            "justify_items": null,
            "grid_row": null,
            "max_height": null,
            "align_content": null,
            "visibility": null,
            "align_self": null,
            "height": null,
            "min_height": null,
            "padding": null,
            "grid_auto_rows": null,
            "grid_gap": null,
            "max_width": null,
            "order": null,
            "_view_module_version": "1.2.0",
            "grid_template_areas": null,
            "object_position": null,
            "object_fit": null,
            "grid_auto_columns": null,
            "margin": null,
            "display": null,
            "left": null
          }
        },
        "028efaedeca94b72b2b66a7814208058": {
          "model_module": "@jupyter-widgets/controls",
          "model_name": "DescriptionStyleModel",
          "state": {
            "_view_name": "StyleView",
            "_model_name": "DescriptionStyleModel",
            "description_width": "",
            "_view_module": "@jupyter-widgets/base",
            "_model_module_version": "1.5.0",
            "_view_count": null,
            "_view_module_version": "1.2.0",
            "_model_module": "@jupyter-widgets/controls"
          }
        },
        "a0cea30db76147d7b74d54d1e4ff572a": {
          "model_module": "@jupyter-widgets/base",
          "model_name": "LayoutModel",
          "state": {
            "_view_name": "LayoutView",
            "grid_template_rows": null,
            "right": null,
            "justify_content": null,
            "_view_module": "@jupyter-widgets/base",
            "overflow": null,
            "_model_module_version": "1.2.0",
            "_view_count": null,
            "flex_flow": null,
            "width": null,
            "min_width": null,
            "border": null,
            "align_items": null,
            "bottom": null,
            "_model_module": "@jupyter-widgets/base",
            "top": null,
            "grid_column": null,
            "overflow_y": null,
            "overflow_x": null,
            "grid_auto_flow": null,
            "grid_area": null,
            "grid_template_columns": null,
            "flex": null,
            "_model_name": "LayoutModel",
            "justify_items": null,
            "grid_row": null,
            "max_height": null,
            "align_content": null,
            "visibility": null,
            "align_self": null,
            "height": null,
            "min_height": null,
            "padding": null,
            "grid_auto_rows": null,
            "grid_gap": null,
            "max_width": null,
            "order": null,
            "_view_module_version": "1.2.0",
            "grid_template_areas": null,
            "object_position": null,
            "object_fit": null,
            "grid_auto_columns": null,
            "margin": null,
            "display": null,
            "left": null
          }
        },
        "0c9577a981cd40a5bf2484607dc7d216": {
          "model_module": "@jupyter-widgets/controls",
          "model_name": "HBoxModel",
          "state": {
            "_view_name": "HBoxView",
            "_dom_classes": [],
            "_model_name": "HBoxModel",
            "_view_module": "@jupyter-widgets/controls",
            "_model_module_version": "1.5.0",
            "_view_count": null,
            "_view_module_version": "1.5.0",
            "box_style": "",
            "layout": "IPY_MODEL_8f217980595e4341b984319c9b1e334c",
            "_model_module": "@jupyter-widgets/controls",
            "children": [
              "IPY_MODEL_48b03435251346cab93c1d9c997f660e",
              "IPY_MODEL_ccca8301d25c4316b2f012ffc1a8ca99"
            ]
          }
        },
        "8f217980595e4341b984319c9b1e334c": {
          "model_module": "@jupyter-widgets/base",
          "model_name": "LayoutModel",
          "state": {
            "_view_name": "LayoutView",
            "grid_template_rows": null,
            "right": null,
            "justify_content": null,
            "_view_module": "@jupyter-widgets/base",
            "overflow": null,
            "_model_module_version": "1.2.0",
            "_view_count": null,
            "flex_flow": null,
            "width": null,
            "min_width": null,
            "border": null,
            "align_items": null,
            "bottom": null,
            "_model_module": "@jupyter-widgets/base",
            "top": null,
            "grid_column": null,
            "overflow_y": null,
            "overflow_x": null,
            "grid_auto_flow": null,
            "grid_area": null,
            "grid_template_columns": null,
            "flex": null,
            "_model_name": "LayoutModel",
            "justify_items": null,
            "grid_row": null,
            "max_height": null,
            "align_content": null,
            "visibility": null,
            "align_self": null,
            "height": null,
            "min_height": null,
            "padding": null,
            "grid_auto_rows": null,
            "grid_gap": null,
            "max_width": null,
            "order": null,
            "_view_module_version": "1.2.0",
            "grid_template_areas": null,
            "object_position": null,
            "object_fit": null,
            "grid_auto_columns": null,
            "margin": null,
            "display": null,
            "left": null
          }
        },
        "48b03435251346cab93c1d9c997f660e": {
          "model_module": "@jupyter-widgets/controls",
          "model_name": "FloatProgressModel",
          "state": {
            "_view_name": "ProgressView",
            "style": "IPY_MODEL_32b0f4d5944d4fbbab15b2b9106c4841",
            "_dom_classes": [],
            "description": "  0%",
            "_model_name": "FloatProgressModel",
            "bar_style": "info",
            "max": 1,
            "_view_module": "@jupyter-widgets/controls",
            "_model_module_version": "1.5.0",
            "value": 0,
            "_view_count": null,
            "_view_module_version": "1.5.0",
            "orientation": "horizontal",
            "min": 0,
            "description_tooltip": null,
            "_model_module": "@jupyter-widgets/controls",
            "layout": "IPY_MODEL_32389057f1874ec6b20fcc197644532b"
          }
        },
        "ccca8301d25c4316b2f012ffc1a8ca99": {
          "model_module": "@jupyter-widgets/controls",
          "model_name": "HTMLModel",
          "state": {
            "_view_name": "HTMLView",
            "style": "IPY_MODEL_8d5efcf6fa034c10ab316d2250001c02",
            "_dom_classes": [],
            "description": "",
            "_model_name": "HTMLModel",
            "placeholder": "​",
            "_view_module": "@jupyter-widgets/controls",
            "_model_module_version": "1.5.0",
            "value": " 0/28881 [00:00&lt;?, ?it/s]",
            "_view_count": null,
            "_view_module_version": "1.5.0",
            "description_tooltip": null,
            "_model_module": "@jupyter-widgets/controls",
            "layout": "IPY_MODEL_8af883caf3744ea6948c5e64887a841e"
          }
        },
        "32b0f4d5944d4fbbab15b2b9106c4841": {
          "model_module": "@jupyter-widgets/controls",
          "model_name": "ProgressStyleModel",
          "state": {
            "_view_name": "StyleView",
            "_model_name": "ProgressStyleModel",
            "description_width": "initial",
            "_view_module": "@jupyter-widgets/base",
            "_model_module_version": "1.5.0",
            "_view_count": null,
            "_view_module_version": "1.2.0",
            "bar_color": null,
            "_model_module": "@jupyter-widgets/controls"
          }
        },
        "32389057f1874ec6b20fcc197644532b": {
          "model_module": "@jupyter-widgets/base",
          "model_name": "LayoutModel",
          "state": {
            "_view_name": "LayoutView",
            "grid_template_rows": null,
            "right": null,
            "justify_content": null,
            "_view_module": "@jupyter-widgets/base",
            "overflow": null,
            "_model_module_version": "1.2.0",
            "_view_count": null,
            "flex_flow": null,
            "width": null,
            "min_width": null,
            "border": null,
            "align_items": null,
            "bottom": null,
            "_model_module": "@jupyter-widgets/base",
            "top": null,
            "grid_column": null,
            "overflow_y": null,
            "overflow_x": null,
            "grid_auto_flow": null,
            "grid_area": null,
            "grid_template_columns": null,
            "flex": null,
            "_model_name": "LayoutModel",
            "justify_items": null,
            "grid_row": null,
            "max_height": null,
            "align_content": null,
            "visibility": null,
            "align_self": null,
            "height": null,
            "min_height": null,
            "padding": null,
            "grid_auto_rows": null,
            "grid_gap": null,
            "max_width": null,
            "order": null,
            "_view_module_version": "1.2.0",
            "grid_template_areas": null,
            "object_position": null,
            "object_fit": null,
            "grid_auto_columns": null,
            "margin": null,
            "display": null,
            "left": null
          }
        },
        "8d5efcf6fa034c10ab316d2250001c02": {
          "model_module": "@jupyter-widgets/controls",
          "model_name": "DescriptionStyleModel",
          "state": {
            "_view_name": "StyleView",
            "_model_name": "DescriptionStyleModel",
            "description_width": "",
            "_view_module": "@jupyter-widgets/base",
            "_model_module_version": "1.5.0",
            "_view_count": null,
            "_view_module_version": "1.2.0",
            "_model_module": "@jupyter-widgets/controls"
          }
        },
        "8af883caf3744ea6948c5e64887a841e": {
          "model_module": "@jupyter-widgets/base",
          "model_name": "LayoutModel",
          "state": {
            "_view_name": "LayoutView",
            "grid_template_rows": null,
            "right": null,
            "justify_content": null,
            "_view_module": "@jupyter-widgets/base",
            "overflow": null,
            "_model_module_version": "1.2.0",
            "_view_count": null,
            "flex_flow": null,
            "width": null,
            "min_width": null,
            "border": null,
            "align_items": null,
            "bottom": null,
            "_model_module": "@jupyter-widgets/base",
            "top": null,
            "grid_column": null,
            "overflow_y": null,
            "overflow_x": null,
            "grid_auto_flow": null,
            "grid_area": null,
            "grid_template_columns": null,
            "flex": null,
            "_model_name": "LayoutModel",
            "justify_items": null,
            "grid_row": null,
            "max_height": null,
            "align_content": null,
            "visibility": null,
            "align_self": null,
            "height": null,
            "min_height": null,
            "padding": null,
            "grid_auto_rows": null,
            "grid_gap": null,
            "max_width": null,
            "order": null,
            "_view_module_version": "1.2.0",
            "grid_template_areas": null,
            "object_position": null,
            "object_fit": null,
            "grid_auto_columns": null,
            "margin": null,
            "display": null,
            "left": null
          }
        },
        "fb1adf787a144e16ad474c42514fef21": {
          "model_module": "@jupyter-widgets/controls",
          "model_name": "HBoxModel",
          "state": {
            "_view_name": "HBoxView",
            "_dom_classes": [],
            "_model_name": "HBoxModel",
            "_view_module": "@jupyter-widgets/controls",
            "_model_module_version": "1.5.0",
            "_view_count": null,
            "_view_module_version": "1.5.0",
            "box_style": "",
            "layout": "IPY_MODEL_a757107022c14133832098c03520d458",
            "_model_module": "@jupyter-widgets/controls",
            "children": [
              "IPY_MODEL_9cc81a5fb1aa488d9a129962b082f28f",
              "IPY_MODEL_631db3c5f1d54613aa9eac684069a553"
            ]
          }
        },
        "a757107022c14133832098c03520d458": {
          "model_module": "@jupyter-widgets/base",
          "model_name": "LayoutModel",
          "state": {
            "_view_name": "LayoutView",
            "grid_template_rows": null,
            "right": null,
            "justify_content": null,
            "_view_module": "@jupyter-widgets/base",
            "overflow": null,
            "_model_module_version": "1.2.0",
            "_view_count": null,
            "flex_flow": null,
            "width": null,
            "min_width": null,
            "border": null,
            "align_items": null,
            "bottom": null,
            "_model_module": "@jupyter-widgets/base",
            "top": null,
            "grid_column": null,
            "overflow_y": null,
            "overflow_x": null,
            "grid_auto_flow": null,
            "grid_area": null,
            "grid_template_columns": null,
            "flex": null,
            "_model_name": "LayoutModel",
            "justify_items": null,
            "grid_row": null,
            "max_height": null,
            "align_content": null,
            "visibility": null,
            "align_self": null,
            "height": null,
            "min_height": null,
            "padding": null,
            "grid_auto_rows": null,
            "grid_gap": null,
            "max_width": null,
            "order": null,
            "_view_module_version": "1.2.0",
            "grid_template_areas": null,
            "object_position": null,
            "object_fit": null,
            "grid_auto_columns": null,
            "margin": null,
            "display": null,
            "left": null
          }
        },
        "9cc81a5fb1aa488d9a129962b082f28f": {
          "model_module": "@jupyter-widgets/controls",
          "model_name": "FloatProgressModel",
          "state": {
            "_view_name": "ProgressView",
            "style": "IPY_MODEL_c88be3bf330b46798c211a29d89aae02",
            "_dom_classes": [],
            "description": "",
            "_model_name": "FloatProgressModel",
            "bar_style": "info",
            "max": 1,
            "_view_module": "@jupyter-widgets/controls",
            "_model_module_version": "1.5.0",
            "value": 1,
            "_view_count": null,
            "_view_module_version": "1.5.0",
            "orientation": "horizontal",
            "min": 0,
            "description_tooltip": null,
            "_model_module": "@jupyter-widgets/controls",
            "layout": "IPY_MODEL_d222db6cc97548b0896e6f9006c8a2fb"
          }
        },
        "631db3c5f1d54613aa9eac684069a553": {
          "model_module": "@jupyter-widgets/controls",
          "model_name": "HTMLModel",
          "state": {
            "_view_name": "HTMLView",
            "style": "IPY_MODEL_6fe873373c444a21b418bc5d0b4b6f73",
            "_dom_classes": [],
            "description": "",
            "_model_name": "HTMLModel",
            "placeholder": "​",
            "_view_module": "@jupyter-widgets/controls",
            "_model_module_version": "1.5.0",
            "value": " 1654784/? [00:18&lt;00:00, 283036.21it/s]",
            "_view_count": null,
            "_view_module_version": "1.5.0",
            "description_tooltip": null,
            "_model_module": "@jupyter-widgets/controls",
            "layout": "IPY_MODEL_bb4f32f2c97044fcb9be889214522777"
          }
        },
        "c88be3bf330b46798c211a29d89aae02": {
          "model_module": "@jupyter-widgets/controls",
          "model_name": "ProgressStyleModel",
          "state": {
            "_view_name": "StyleView",
            "_model_name": "ProgressStyleModel",
            "description_width": "initial",
            "_view_module": "@jupyter-widgets/base",
            "_model_module_version": "1.5.0",
            "_view_count": null,
            "_view_module_version": "1.2.0",
            "bar_color": null,
            "_model_module": "@jupyter-widgets/controls"
          }
        },
        "d222db6cc97548b0896e6f9006c8a2fb": {
          "model_module": "@jupyter-widgets/base",
          "model_name": "LayoutModel",
          "state": {
            "_view_name": "LayoutView",
            "grid_template_rows": null,
            "right": null,
            "justify_content": null,
            "_view_module": "@jupyter-widgets/base",
            "overflow": null,
            "_model_module_version": "1.2.0",
            "_view_count": null,
            "flex_flow": null,
            "width": null,
            "min_width": null,
            "border": null,
            "align_items": null,
            "bottom": null,
            "_model_module": "@jupyter-widgets/base",
            "top": null,
            "grid_column": null,
            "overflow_y": null,
            "overflow_x": null,
            "grid_auto_flow": null,
            "grid_area": null,
            "grid_template_columns": null,
            "flex": null,
            "_model_name": "LayoutModel",
            "justify_items": null,
            "grid_row": null,
            "max_height": null,
            "align_content": null,
            "visibility": null,
            "align_self": null,
            "height": null,
            "min_height": null,
            "padding": null,
            "grid_auto_rows": null,
            "grid_gap": null,
            "max_width": null,
            "order": null,
            "_view_module_version": "1.2.0",
            "grid_template_areas": null,
            "object_position": null,
            "object_fit": null,
            "grid_auto_columns": null,
            "margin": null,
            "display": null,
            "left": null
          }
        },
        "6fe873373c444a21b418bc5d0b4b6f73": {
          "model_module": "@jupyter-widgets/controls",
          "model_name": "DescriptionStyleModel",
          "state": {
            "_view_name": "StyleView",
            "_model_name": "DescriptionStyleModel",
            "description_width": "",
            "_view_module": "@jupyter-widgets/base",
            "_model_module_version": "1.5.0",
            "_view_count": null,
            "_view_module_version": "1.2.0",
            "_model_module": "@jupyter-widgets/controls"
          }
        },
        "bb4f32f2c97044fcb9be889214522777": {
          "model_module": "@jupyter-widgets/base",
          "model_name": "LayoutModel",
          "state": {
            "_view_name": "LayoutView",
            "grid_template_rows": null,
            "right": null,
            "justify_content": null,
            "_view_module": "@jupyter-widgets/base",
            "overflow": null,
            "_model_module_version": "1.2.0",
            "_view_count": null,
            "flex_flow": null,
            "width": null,
            "min_width": null,
            "border": null,
            "align_items": null,
            "bottom": null,
            "_model_module": "@jupyter-widgets/base",
            "top": null,
            "grid_column": null,
            "overflow_y": null,
            "overflow_x": null,
            "grid_auto_flow": null,
            "grid_area": null,
            "grid_template_columns": null,
            "flex": null,
            "_model_name": "LayoutModel",
            "justify_items": null,
            "grid_row": null,
            "max_height": null,
            "align_content": null,
            "visibility": null,
            "align_self": null,
            "height": null,
            "min_height": null,
            "padding": null,
            "grid_auto_rows": null,
            "grid_gap": null,
            "max_width": null,
            "order": null,
            "_view_module_version": "1.2.0",
            "grid_template_areas": null,
            "object_position": null,
            "object_fit": null,
            "grid_auto_columns": null,
            "margin": null,
            "display": null,
            "left": null
          }
        },
        "dd3f4708bf064a84b97d97fdaf4ed932": {
          "model_module": "@jupyter-widgets/controls",
          "model_name": "HBoxModel",
          "state": {
            "_view_name": "HBoxView",
            "_dom_classes": [],
            "_model_name": "HBoxModel",
            "_view_module": "@jupyter-widgets/controls",
            "_model_module_version": "1.5.0",
            "_view_count": null,
            "_view_module_version": "1.5.0",
            "box_style": "",
            "layout": "IPY_MODEL_429e4d1a0ba043deacb10d4a7aea3309",
            "_model_module": "@jupyter-widgets/controls",
            "children": [
              "IPY_MODEL_2bf62a84c6d14b56b8543c60d901c519",
              "IPY_MODEL_f9cac3efa3e04412b877be8145cd0d5f"
            ]
          }
        },
        "429e4d1a0ba043deacb10d4a7aea3309": {
          "model_module": "@jupyter-widgets/base",
          "model_name": "LayoutModel",
          "state": {
            "_view_name": "LayoutView",
            "grid_template_rows": null,
            "right": null,
            "justify_content": null,
            "_view_module": "@jupyter-widgets/base",
            "overflow": null,
            "_model_module_version": "1.2.0",
            "_view_count": null,
            "flex_flow": null,
            "width": null,
            "min_width": null,
            "border": null,
            "align_items": null,
            "bottom": null,
            "_model_module": "@jupyter-widgets/base",
            "top": null,
            "grid_column": null,
            "overflow_y": null,
            "overflow_x": null,
            "grid_auto_flow": null,
            "grid_area": null,
            "grid_template_columns": null,
            "flex": null,
            "_model_name": "LayoutModel",
            "justify_items": null,
            "grid_row": null,
            "max_height": null,
            "align_content": null,
            "visibility": null,
            "align_self": null,
            "height": null,
            "min_height": null,
            "padding": null,
            "grid_auto_rows": null,
            "grid_gap": null,
            "max_width": null,
            "order": null,
            "_view_module_version": "1.2.0",
            "grid_template_areas": null,
            "object_position": null,
            "object_fit": null,
            "grid_auto_columns": null,
            "margin": null,
            "display": null,
            "left": null
          }
        },
        "2bf62a84c6d14b56b8543c60d901c519": {
          "model_module": "@jupyter-widgets/controls",
          "model_name": "FloatProgressModel",
          "state": {
            "_view_name": "ProgressView",
            "style": "IPY_MODEL_7bfb13ab78054ce9b831f559c2cf8340",
            "_dom_classes": [],
            "description": "  0%",
            "_model_name": "FloatProgressModel",
            "bar_style": "info",
            "max": 1,
            "_view_module": "@jupyter-widgets/controls",
            "_model_module_version": "1.5.0",
            "value": 0,
            "_view_count": null,
            "_view_module_version": "1.5.0",
            "orientation": "horizontal",
            "min": 0,
            "description_tooltip": null,
            "_model_module": "@jupyter-widgets/controls",
            "layout": "IPY_MODEL_3ddb5af8a4424b56a4e9ec054933af76"
          }
        },
        "f9cac3efa3e04412b877be8145cd0d5f": {
          "model_module": "@jupyter-widgets/controls",
          "model_name": "HTMLModel",
          "state": {
            "_view_name": "HTMLView",
            "style": "IPY_MODEL_c6163793d15e4f90b90cea1ab8239f6a",
            "_dom_classes": [],
            "description": "",
            "_model_name": "HTMLModel",
            "placeholder": "​",
            "_view_module": "@jupyter-widgets/controls",
            "_model_module_version": "1.5.0",
            "value": " 0/4542 [00:00&lt;?, ?it/s]",
            "_view_count": null,
            "_view_module_version": "1.5.0",
            "description_tooltip": null,
            "_model_module": "@jupyter-widgets/controls",
            "layout": "IPY_MODEL_d6c961e272fe42a5801556b175b49b7d"
          }
        },
        "7bfb13ab78054ce9b831f559c2cf8340": {
          "model_module": "@jupyter-widgets/controls",
          "model_name": "ProgressStyleModel",
          "state": {
            "_view_name": "StyleView",
            "_model_name": "ProgressStyleModel",
            "description_width": "initial",
            "_view_module": "@jupyter-widgets/base",
            "_model_module_version": "1.5.0",
            "_view_count": null,
            "_view_module_version": "1.2.0",
            "bar_color": null,
            "_model_module": "@jupyter-widgets/controls"
          }
        },
        "3ddb5af8a4424b56a4e9ec054933af76": {
          "model_module": "@jupyter-widgets/base",
          "model_name": "LayoutModel",
          "state": {
            "_view_name": "LayoutView",
            "grid_template_rows": null,
            "right": null,
            "justify_content": null,
            "_view_module": "@jupyter-widgets/base",
            "overflow": null,
            "_model_module_version": "1.2.0",
            "_view_count": null,
            "flex_flow": null,
            "width": null,
            "min_width": null,
            "border": null,
            "align_items": null,
            "bottom": null,
            "_model_module": "@jupyter-widgets/base",
            "top": null,
            "grid_column": null,
            "overflow_y": null,
            "overflow_x": null,
            "grid_auto_flow": null,
            "grid_area": null,
            "grid_template_columns": null,
            "flex": null,
            "_model_name": "LayoutModel",
            "justify_items": null,
            "grid_row": null,
            "max_height": null,
            "align_content": null,
            "visibility": null,
            "align_self": null,
            "height": null,
            "min_height": null,
            "padding": null,
            "grid_auto_rows": null,
            "grid_gap": null,
            "max_width": null,
            "order": null,
            "_view_module_version": "1.2.0",
            "grid_template_areas": null,
            "object_position": null,
            "object_fit": null,
            "grid_auto_columns": null,
            "margin": null,
            "display": null,
            "left": null
          }
        },
        "c6163793d15e4f90b90cea1ab8239f6a": {
          "model_module": "@jupyter-widgets/controls",
          "model_name": "DescriptionStyleModel",
          "state": {
            "_view_name": "StyleView",
            "_model_name": "DescriptionStyleModel",
            "description_width": "",
            "_view_module": "@jupyter-widgets/base",
            "_model_module_version": "1.5.0",
            "_view_count": null,
            "_view_module_version": "1.2.0",
            "_model_module": "@jupyter-widgets/controls"
          }
        },
        "d6c961e272fe42a5801556b175b49b7d": {
          "model_module": "@jupyter-widgets/base",
          "model_name": "LayoutModel",
          "state": {
            "_view_name": "LayoutView",
            "grid_template_rows": null,
            "right": null,
            "justify_content": null,
            "_view_module": "@jupyter-widgets/base",
            "overflow": null,
            "_model_module_version": "1.2.0",
            "_view_count": null,
            "flex_flow": null,
            "width": null,
            "min_width": null,
            "border": null,
            "align_items": null,
            "bottom": null,
            "_model_module": "@jupyter-widgets/base",
            "top": null,
            "grid_column": null,
            "overflow_y": null,
            "overflow_x": null,
            "grid_auto_flow": null,
            "grid_area": null,
            "grid_template_columns": null,
            "flex": null,
            "_model_name": "LayoutModel",
            "justify_items": null,
            "grid_row": null,
            "max_height": null,
            "align_content": null,
            "visibility": null,
            "align_self": null,
            "height": null,
            "min_height": null,
            "padding": null,
            "grid_auto_rows": null,
            "grid_gap": null,
            "max_width": null,
            "order": null,
            "_view_module_version": "1.2.0",
            "grid_template_areas": null,
            "object_position": null,
            "object_fit": null,
            "grid_auto_columns": null,
            "margin": null,
            "display": null,
            "left": null
          }
        }
      }
    }
  },
  "cells": [
    {
      "cell_type": "markdown",
      "metadata": {
        "id": "D7YYMRSQ7r2-",
        "colab_type": "text"
      },
      "source": [
        "# MNIST with PyTorch\n",
        "\n",
        "In this notebook example, we will walk through how to train a simple CNN to classify MNIST images.\n",
        "\n",
        "We will rely on the following modules, including torch and torchvision."
      ]
    },
    {
      "cell_type": "code",
      "metadata": {
        "id": "PvyV5PtX_QLp",
        "colab_type": "code",
        "colab": {
          "base_uri": "https://localhost:8080/",
          "height": 446
        },
        "outputId": "6df18b85-5413-4ede-f914-d08cd2f80b8f"
      },
      "source": [
        "# install dependencies: (use cu101 because colab has CUDA 10.1)\n",
        "!pip install -U torch==1.5.1+cu101 torchvision==0.6.1+cu101 -f https://download.pytorch.org/whl/torch_stable.html"
      ],
      "execution_count": 3,
      "outputs": [
        {
          "output_type": "stream",
          "text": [
            "Looking in links: https://download.pytorch.org/whl/torch_stable.html\n",
            "Collecting torch==1.5.1+cu101\n",
            "\u001b[?25l  Downloading https://download.pytorch.org/whl/cu101/torch-1.5.1%2Bcu101-cp36-cp36m-linux_x86_64.whl (704.4MB)\n",
            "\u001b[K     |████████████████████████████████| 704.4MB 23kB/s \n",
            "\u001b[33mWARNING: Retrying (Retry(total=4, connect=None, read=None, redirect=None, status=None)) after connection broken by 'ProtocolError('Connection aborted.', ConnectionResetError(104, 'Connection reset by peer'))': /simple/torchvision/\u001b[0m\n",
            "\u001b[?25hCollecting torchvision==0.6.1+cu101\n",
            "\u001b[?25l  Downloading https://download.pytorch.org/whl/cu101/torchvision-0.6.1%2Bcu101-cp36-cp36m-linux_x86_64.whl (6.6MB)\n",
            "\u001b[K     |████████████████████████████████| 6.6MB 11.4MB/s \n",
            "\u001b[?25hRequirement already satisfied, skipping upgrade: future in /usr/local/lib/python3.6/dist-packages (from torch==1.5.1+cu101) (0.16.0)\n",
            "Requirement already satisfied, skipping upgrade: numpy in /usr/local/lib/python3.6/dist-packages (from torch==1.5.1+cu101) (1.18.5)\n",
            "Requirement already satisfied, skipping upgrade: pillow>=4.1.1 in /usr/local/lib/python3.6/dist-packages (from torchvision==0.6.1+cu101) (7.0.0)\n",
            "Installing collected packages: torch, torchvision\n",
            "  Found existing installation: torch 1.6.0+cu101\n",
            "    Uninstalling torch-1.6.0+cu101:\n",
            "      Successfully uninstalled torch-1.6.0+cu101\n",
            "  Found existing installation: torchvision 0.7.0+cu101\n",
            "    Uninstalling torchvision-0.7.0+cu101:\n",
            "      Successfully uninstalled torchvision-0.7.0+cu101\n",
            "Successfully installed torch-1.5.1+cu101 torchvision-0.6.1+cu101\n"
          ],
          "name": "stdout"
        },
        {
          "output_type": "display_data",
          "data": {
            "application/vnd.colab-display-data+json": {
              "pip_warning": {
                "packages": [
                  "torch",
                  "torchvision"
                ]
              }
            }
          },
          "metadata": {
            "tags": []
          }
        }
      ]
    },
    {
      "cell_type": "code",
      "metadata": {
        "id": "OtRmxP5M7r2_",
        "colab_type": "code",
        "colab": {}
      },
      "source": [
        "import torch\n",
        "import torchvision\n",
        "from torch import nn\n",
        "from torch.utils.data import DataLoader\n",
        "from torchvision import datasets\n",
        "from torchvision import transforms\n",
        "import matplotlib.pyplot as plt"
      ],
      "execution_count": 1,
      "outputs": []
    },
    {
      "cell_type": "markdown",
      "metadata": {
        "id": "BJZNOG6w7r3C",
        "colab_type": "text"
      },
      "source": [
        "## 1. Data Loader\n",
        "\n",
        "The first step is to create a data loader.\n",
        "\n",
        "A data loader can be treated as a list (or iterator, technically). Each time it will provide a minibatch of (img, label) pairs."
      ]
    },
    {
      "cell_type": "code",
      "metadata": {
        "id": "cDoroXlA7r3C",
        "colab_type": "code",
        "colab": {
          "base_uri": "https://localhost:8080/",
          "height": 352,
          "referenced_widgets": [
            "f9f87e2fa8a44dba89ac06cb0ab1b926",
            "f32cb999e37b47ed910ebad66d8f1d3c",
            "01f148a195a34082bef4d03a68f5e469",
            "bf0a7209b54447e7846c56afa7e26be3",
            "6ec801086f504e84839af5db90b478dd",
            "f65c8bb7b23248a88ebb617b2c95877f",
            "028efaedeca94b72b2b66a7814208058",
            "a0cea30db76147d7b74d54d1e4ff572a",
            "0c9577a981cd40a5bf2484607dc7d216",
            "8f217980595e4341b984319c9b1e334c",
            "48b03435251346cab93c1d9c997f660e",
            "ccca8301d25c4316b2f012ffc1a8ca99",
            "32b0f4d5944d4fbbab15b2b9106c4841",
            "32389057f1874ec6b20fcc197644532b",
            "8d5efcf6fa034c10ab316d2250001c02",
            "8af883caf3744ea6948c5e64887a841e",
            "fb1adf787a144e16ad474c42514fef21",
            "a757107022c14133832098c03520d458",
            "9cc81a5fb1aa488d9a129962b082f28f",
            "631db3c5f1d54613aa9eac684069a553",
            "c88be3bf330b46798c211a29d89aae02",
            "d222db6cc97548b0896e6f9006c8a2fb",
            "6fe873373c444a21b418bc5d0b4b6f73",
            "bb4f32f2c97044fcb9be889214522777",
            "dd3f4708bf064a84b97d97fdaf4ed932",
            "429e4d1a0ba043deacb10d4a7aea3309",
            "2bf62a84c6d14b56b8543c60d901c519",
            "f9cac3efa3e04412b877be8145cd0d5f",
            "7bfb13ab78054ce9b831f559c2cf8340",
            "3ddb5af8a4424b56a4e9ec054933af76",
            "c6163793d15e4f90b90cea1ab8239f6a",
            "d6c961e272fe42a5801556b175b49b7d"
          ]
        },
        "outputId": "4f2f1a1d-7aae-4bca-b3b5-de40062fa160"
      },
      "source": [
        "# Choose a dataset -- MNIST for example\n",
        "train_set = datasets.MNIST(root='./data', train=True, download=True)\n",
        "test_set = datasets.MNIST(root='./data', train=False, download=True)\n",
        "\n",
        "train_set.transform = transform=transforms.Compose([\n",
        "                           transforms.ToTensor(),\n",
        "                           transforms.Normalize((0.1307,), (0.3081,))\n",
        "                       ])\n",
        "\n",
        "test_set.transform = transform=transforms.Compose([\n",
        "                           transforms.ToTensor(),\n",
        "                           transforms.Normalize((0.1307,), (0.3081,))\n",
        "                       ])\n",
        "\n",
        "# Create a data loader\n",
        "train_loader = DataLoader(train_set, batch_size=64, shuffle=True)\n",
        "test_loader = DataLoader(test_set, batch_size=64, shuffle=False)"
      ],
      "execution_count": 4,
      "outputs": [
        {
          "output_type": "stream",
          "text": [
            "Downloading http://yann.lecun.com/exdb/mnist/train-images-idx3-ubyte.gz to ./data/MNIST/raw/train-images-idx3-ubyte.gz\n"
          ],
          "name": "stdout"
        },
        {
          "output_type": "display_data",
          "data": {
            "application/vnd.jupyter.widget-view+json": {
              "model_id": "f9f87e2fa8a44dba89ac06cb0ab1b926",
              "version_minor": 0,
              "version_major": 2
            },
            "text/plain": [
              "HBox(children=(FloatProgress(value=1.0, bar_style='info', max=1.0), HTML(value='')))"
            ]
          },
          "metadata": {
            "tags": []
          }
        },
        {
          "output_type": "stream",
          "text": [
            "Extracting ./data/MNIST/raw/train-images-idx3-ubyte.gz to ./data/MNIST/raw\n",
            "Downloading http://yann.lecun.com/exdb/mnist/train-labels-idx1-ubyte.gz to ./data/MNIST/raw/train-labels-idx1-ubyte.gz\n"
          ],
          "name": "stdout"
        },
        {
          "output_type": "display_data",
          "data": {
            "application/vnd.jupyter.widget-view+json": {
              "model_id": "0c9577a981cd40a5bf2484607dc7d216",
              "version_minor": 0,
              "version_major": 2
            },
            "text/plain": [
              "HBox(children=(FloatProgress(value=1.0, bar_style='info', max=1.0), HTML(value='')))"
            ]
          },
          "metadata": {
            "tags": []
          }
        },
        {
          "output_type": "stream",
          "text": [
            "Extracting ./data/MNIST/raw/train-labels-idx1-ubyte.gz to ./data/MNIST/raw\n",
            "Downloading http://yann.lecun.com/exdb/mnist/t10k-images-idx3-ubyte.gz to ./data/MNIST/raw/t10k-images-idx3-ubyte.gz\n"
          ],
          "name": "stdout"
        },
        {
          "output_type": "display_data",
          "data": {
            "application/vnd.jupyter.widget-view+json": {
              "model_id": "fb1adf787a144e16ad474c42514fef21",
              "version_minor": 0,
              "version_major": 2
            },
            "text/plain": [
              "HBox(children=(FloatProgress(value=1.0, bar_style='info', max=1.0), HTML(value='')))"
            ]
          },
          "metadata": {
            "tags": []
          }
        },
        {
          "output_type": "stream",
          "text": [
            "Extracting ./data/MNIST/raw/t10k-images-idx3-ubyte.gz to ./data/MNIST/raw\n",
            "Downloading http://yann.lecun.com/exdb/mnist/t10k-labels-idx1-ubyte.gz to ./data/MNIST/raw/t10k-labels-idx1-ubyte.gz\n"
          ],
          "name": "stdout"
        },
        {
          "output_type": "display_data",
          "data": {
            "application/vnd.jupyter.widget-view+json": {
              "model_id": "dd3f4708bf064a84b97d97fdaf4ed932",
              "version_minor": 0,
              "version_major": 2
            },
            "text/plain": [
              "HBox(children=(FloatProgress(value=1.0, bar_style='info', max=1.0), HTML(value='')))"
            ]
          },
          "metadata": {
            "tags": []
          }
        },
        {
          "output_type": "stream",
          "text": [
            "Extracting ./data/MNIST/raw/t10k-labels-idx1-ubyte.gz to ./data/MNIST/raw\n",
            "Processing...\n",
            "Done!\n"
          ],
          "name": "stdout"
        },
        {
          "output_type": "stream",
          "text": [
            "/pytorch/torch/csrc/utils/tensor_numpy.cpp:141: UserWarning: The given NumPy array is not writeable, and PyTorch does not support non-writeable tensors. This means you can write to the underlying (supposedly non-writeable) NumPy array using the tensor. You may want to copy the array to protect its data or make it writeable before converting it to a tensor. This type of warning will be suppressed for the rest of this program.\n"
          ],
          "name": "stderr"
        }
      ]
    },
    {
      "cell_type": "markdown",
      "metadata": {
        "id": "zcUyoucM7r3E",
        "colab_type": "text"
      },
      "source": [
        "Let us show some of the training images, for fun."
      ]
    },
    {
      "cell_type": "code",
      "metadata": {
        "scrolled": true,
        "id": "oqtIu1WJ7r3F",
        "colab_type": "code",
        "colab": {
          "base_uri": "https://localhost:8080/",
          "height": 232
        },
        "outputId": "951b80cb-ed64-420c-f2b6-bcfb2194227b"
      },
      "source": [
        "def imshow(img, mean=0, std=1):\n",
        "    img = img * std + mean  # unnormalize\n",
        "    npimg = img.numpy().transpose(1, 2, 0).squeeze()  # (c,h,w) -> (h,w,c)\n",
        "    plt.imshow(npimg)\n",
        "    plt.show()\n",
        "    \n",
        "trainiter = iter(train_loader)\n",
        "img, label = trainiter.next()\n",
        "print(img.shape)  # (n,c,h,w)\n",
        "\n",
        "# Visualization\n",
        "img = torchvision.utils.make_grid(img)\n",
        "imshow(img, 0.1307, 0.3081)\n",
        "print('GT\\t:', ' '.join('%d' % label[j].item() for j in range(len(label))))"
      ],
      "execution_count": 2,
      "outputs": [
        {
          "output_type": "error",
          "ename": "NameError",
          "evalue": "ignored",
          "traceback": [
            "\u001b[0;31m---------------------------------------------------------------------------\u001b[0m",
            "\u001b[0;31mNameError\u001b[0m                                 Traceback (most recent call last)",
            "\u001b[0;32m<ipython-input-2-bb949ab2598b>\u001b[0m in \u001b[0;36m<module>\u001b[0;34m()\u001b[0m\n\u001b[1;32m      5\u001b[0m     \u001b[0mplt\u001b[0m\u001b[0;34m.\u001b[0m\u001b[0mshow\u001b[0m\u001b[0;34m(\u001b[0m\u001b[0;34m)\u001b[0m\u001b[0;34m\u001b[0m\u001b[0;34m\u001b[0m\u001b[0m\n\u001b[1;32m      6\u001b[0m \u001b[0;34m\u001b[0m\u001b[0m\n\u001b[0;32m----> 7\u001b[0;31m \u001b[0mtrainiter\u001b[0m \u001b[0;34m=\u001b[0m \u001b[0miter\u001b[0m\u001b[0;34m(\u001b[0m\u001b[0mtrain_loader\u001b[0m\u001b[0;34m)\u001b[0m\u001b[0;34m\u001b[0m\u001b[0;34m\u001b[0m\u001b[0m\n\u001b[0m\u001b[1;32m      8\u001b[0m \u001b[0mimg\u001b[0m\u001b[0;34m,\u001b[0m \u001b[0mlabel\u001b[0m \u001b[0;34m=\u001b[0m \u001b[0mtrainiter\u001b[0m\u001b[0;34m.\u001b[0m\u001b[0mnext\u001b[0m\u001b[0;34m(\u001b[0m\u001b[0;34m)\u001b[0m\u001b[0;34m\u001b[0m\u001b[0;34m\u001b[0m\u001b[0m\n\u001b[1;32m      9\u001b[0m \u001b[0mprint\u001b[0m\u001b[0;34m(\u001b[0m\u001b[0mimg\u001b[0m\u001b[0;34m.\u001b[0m\u001b[0mshape\u001b[0m\u001b[0;34m)\u001b[0m  \u001b[0;31m# (n,c,h,w)\u001b[0m\u001b[0;34m\u001b[0m\u001b[0;34m\u001b[0m\u001b[0m\n",
            "\u001b[0;31mNameError\u001b[0m: name 'train_loader' is not defined"
          ]
        }
      ]
    },
    {
      "cell_type": "code",
      "metadata": {
        "id": "E3KZnVpGVZPS",
        "colab_type": "code",
        "colab": {}
      },
      "source": [
        "# To check a single random image\n",
        "\n",
        "trainiter = iter(train_loader)\n",
        "img, label = trainiter.next()\n",
        "plt.imshow(img[0].reshape(28,28), cmap=\"gray\")"
      ],
      "execution_count": 78,
      "outputs": []
    },
    {
      "cell_type": "markdown",
      "metadata": {
        "id": "GdO1bC6f7r3I",
        "colab_type": "text"
      },
      "source": [
        "## 2. Model\n",
        "\n",
        "The second step is to define our model.\n",
        "\n",
        "We will use a simple CNN with conv(5x5) -> relu -> pool(2x2) -> conv(5x5) -> relu -> pool(2x2) -> fc(200) -> relu  -> fc(10).\n",
        "\n",
        "In PyTorch, a model is defined by a subclass of nn.Module. It has two methods:\n",
        "\n",
        "  - `__init__`: constructor. Create layers here. Note that we don't define the connections between layers in this function.\n",
        "\n",
        "  - `forward(x)`: forward function. Receives an input variable `x`. Returns a output variable. Note that we actually connect the layers here dynamically.\n",
        "\n",
        "We no longer need to implement the backward function. The computational graph will be built implicitly based on the forward operations, and the gradients can be automatically computed."
      ]
    },
    {
      "cell_type": "code",
      "metadata": {
        "id": "5kjUx5co7r3I",
        "colab_type": "code",
        "colab": {}
      },
      "source": [
        "class SimpleCNN(nn.Module):\n",
        "    def __init__(self):\n",
        "        super(SimpleCNN, self).__init__()  # Call parent class's constructor\n",
        "        self.conv1 = nn.Conv2d(1, 10, 5, 1)\n",
        "        self.conv2 = nn.Conv2d(10, 20, 5, 1)\n",
        "        self.pool = nn.MaxPool2d(2)\n",
        "        self.fc1 = nn.Linear(4*4*20, 200)\n",
        "        self.fc2 = nn.Linear(200, 10)\n",
        "        self.relu = nn.ReLU()\n",
        "\n",
        "    def forward(self, x):\n",
        "        x = self.conv1(x)\n",
        "        x = self.relu(x) # When a nn.Module is called, it will compute the result\n",
        "        x = self.pool(x)\n",
        "        x = self.conv2(x)\n",
        "        x = self.relu(x)\n",
        "        x = self.pool(x)\n",
        "        x = x.view(-1, 4*4*20) # Flatten the data\n",
        "        x = self.relu(self.fc1(x))\n",
        "        x = self.fc2(x)\n",
        "        return x\n",
        "\n",
        "model = SimpleCNN()"
      ],
      "execution_count": 30,
      "outputs": []
    },
    {
      "cell_type": "markdown",
      "metadata": {
        "id": "NJJqU46wQDgp",
        "colab_type": "text"
      },
      "source": [
        "You can double check your model specification."
      ]
    },
    {
      "cell_type": "code",
      "metadata": {
        "id": "N3KjjXMWP-3_",
        "colab_type": "code",
        "colab": {
          "base_uri": "https://localhost:8080/",
          "height": 153
        },
        "outputId": "120e4f01-1ced-4af8-e943-106cb41337a7"
      },
      "source": [
        "print(model)"
      ],
      "execution_count": 45,
      "outputs": [
        {
          "output_type": "stream",
          "text": [
            "SimpleCNN(\n",
            "  (conv1): Conv2d(1, 10, kernel_size=(5, 5), stride=(1, 1))\n",
            "  (conv2): Conv2d(10, 20, kernel_size=(5, 5), stride=(1, 1))\n",
            "  (pool): MaxPool2d(kernel_size=2, stride=2, padding=0, dilation=1, ceil_mode=False)\n",
            "  (fc1): Linear(in_features=320, out_features=200, bias=True)\n",
            "  (fc2): Linear(in_features=200, out_features=10, bias=True)\n",
            "  (relu): ReLU()\n",
            ")\n"
          ],
          "name": "stdout"
        }
      ]
    },
    {
      "cell_type": "markdown",
      "metadata": {
        "id": "QNyhQc4b7r3K",
        "colab_type": "text"
      },
      "source": [
        "Let us test with random inputs."
      ]
    },
    {
      "cell_type": "code",
      "metadata": {
        "id": "9V3tpsvA7r3L",
        "colab_type": "code",
        "colab": {
          "base_uri": "https://localhost:8080/",
          "height": 34
        },
        "outputId": "8c1f205b-deda-4d5d-bb57-f3b6a6074401"
      },
      "source": [
        "x = torch.rand([64,1,28,28])\n",
        "y = model(x)\n",
        "print(y.shape)"
      ],
      "execution_count": 31,
      "outputs": [
        {
          "output_type": "stream",
          "text": [
            "torch.Size([64, 10])\n"
          ],
          "name": "stdout"
        }
      ]
    },
    {
      "cell_type": "markdown",
      "metadata": {
        "id": "nXye5PeN7r3N",
        "colab_type": "text"
      },
      "source": [
        "## 3. Loss and Optimizer\n",
        "\n",
        "The third step is to define the loss function and the optimization algorithm. Let’s use a Classification Cross-Entropy loss and SGD with momentum."
      ]
    },
    {
      "cell_type": "code",
      "metadata": {
        "id": "PhruYNOP7r3O",
        "colab_type": "code",
        "colab": {}
      },
      "source": [
        "criterion = nn.CrossEntropyLoss()\n",
        "\n",
        "optimizer = torch.optim.SGD(model.parameters(), 0.01, momentum=0.9, weight_decay=5e-4)"
      ],
      "execution_count": 33,
      "outputs": []
    },
    {
      "cell_type": "markdown",
      "metadata": {
        "id": "k2gsLj737r3Q",
        "colab_type": "text"
      },
      "source": [
        "## 4. Training\n",
        "\n",
        "The next step is to start the training process."
      ]
    },
    {
      "cell_type": "code",
      "metadata": {
        "scrolled": true,
        "id": "3yXAXWAk7r3Q",
        "colab_type": "code",
        "colab": {}
      },
      "source": [
        "def train(epoch):\n",
        "    model.train()  # Set the model to be in training mode\n",
        "\n",
        "    for batch_index, (inputs, targets) in enumerate(train_loader):\n",
        "        # Forward\n",
        "        outputs = model(inputs)\n",
        "        loss = criterion(outputs, targets)\n",
        "        if batch_index % 100 == 0 or batch_index == len(train_loader)-1:\n",
        "            print('epoch {}  batch {}/{}  loss {:.3f}'.format(\n",
        "                epoch, batch_index, len(train_loader)-1, loss.item()))\n",
        "\n",
        "        # Backward\n",
        "        optimizer.zero_grad()  # Set gradients to zero\n",
        "        loss.backward()        # From the loss we compute the new gradients\n",
        "        optimizer.step()       # Update the parameters/weights\n"
      ],
      "execution_count": 34,
      "outputs": []
    },
    {
      "cell_type": "markdown",
      "metadata": {
        "id": "gcg05Ycv7r3T",
        "colab_type": "text"
      },
      "source": [
        "'zero_grad' is to clear previous gradients. We need to set the gradients to zero before starting to do backpropragation because PyTorch accumulates the gradients on subsequent backward passes.\n",
        "\n",
        "Now let us train the network for 1 pass over the training dataset, and check if the network has learned anything at all."
      ]
    },
    {
      "cell_type": "code",
      "metadata": {
        "id": "FkknLoON7r3T",
        "colab_type": "code",
        "colab": {
          "base_uri": "https://localhost:8080/",
          "height": 204
        },
        "outputId": "76dc8c53-7ccf-444f-d037-1bbb00bbd9cd"
      },
      "source": [
        "train(0)"
      ],
      "execution_count": 35,
      "outputs": [
        {
          "output_type": "stream",
          "text": [
            "epoch 0  batch 0/937  loss 2.310\n",
            "epoch 0  batch 100/937  loss 0.223\n",
            "epoch 0  batch 200/937  loss 0.168\n",
            "epoch 0  batch 300/937  loss 0.054\n",
            "epoch 0  batch 400/937  loss 0.076\n",
            "epoch 0  batch 500/937  loss 0.174\n",
            "epoch 0  batch 600/937  loss 0.052\n",
            "epoch 0  batch 700/937  loss 0.063\n",
            "epoch 0  batch 800/937  loss 0.090\n",
            "epoch 0  batch 900/937  loss 0.018\n",
            "epoch 0  batch 937/937  loss 0.007\n"
          ],
          "name": "stdout"
        }
      ]
    },
    {
      "cell_type": "markdown",
      "metadata": {
        "id": "Fh0o1bpVbHG8",
        "colab_type": "text"
      },
      "source": [
        "## 5. Plotting Training Curve\n",
        "\n",
        "How do we know when to stop training? How do we know what learning rate and what batch sizes are appropriate? Those are very important and practical questions to answer when training a neural network. We answer those questions by plotting a **training curve**.\n",
        "\n",
        "A **training curve** is a chart that shows:\n",
        "1.   The **iterations** or **epochs** on the x-axis\n",
        "2.   The **loss** or **accuracy** on the y-axis\n",
        "\n",
        "The idea is to track how the loss or accuracy changes as training progresses.\n",
        "\n",
        "Let's redefine the training process."
      ]
    },
    {
      "cell_type": "code",
      "metadata": {
        "id": "ixwjT01AbeKf",
        "colab_type": "code",
        "colab": {}
      },
      "source": [
        "def train(epoch):\n",
        "    model.train()  # Set the model to be in training mode\n",
        "\n",
        "    iters  = [] # save the iteration counts here for plotting\n",
        "    losses = [] # save the avg loss here for plotting\n",
        "\n",
        "    for batch_index, (inputs, targets) in enumerate(train_loader):\n",
        "        # Forward\n",
        "        outputs = model(inputs)\n",
        "        loss = criterion(outputs, targets)\n",
        "        if batch_index % 100 == 0 or batch_index == len(train_loader)-1:\n",
        "            print('epoch {}  batch {}/{}  loss {:.3f}'.format(\n",
        "                epoch, batch_index, len(train_loader)-1, loss.item()))\n",
        "\n",
        "        # Backward\n",
        "        optimizer.zero_grad()  # Set gradients to zero\n",
        "        loss.backward()        # From the loss we compute the new gradients\n",
        "        optimizer.step()       # Update the parameters/weights\n",
        "\n",
        "        # Save the current training information\n",
        "        iters.append(batch_index)\n",
        "        losses.append(float(loss))\n",
        "\n",
        "    # Plotting\n",
        "    plt.plot(iters, losses)\n",
        "    plt.title(\"Training Curve\")\n",
        "    plt.xlabel(\"Iterations\")\n",
        "    plt.ylabel(\"Loss\")\n",
        "    plt.show()"
      ],
      "execution_count": 41,
      "outputs": []
    },
    {
      "cell_type": "markdown",
      "metadata": {
        "id": "jsCqKD3oc2sO",
        "colab_type": "text"
      },
      "source": [
        "Let's try the training again for 1 epoch."
      ]
    },
    {
      "cell_type": "code",
      "metadata": {
        "id": "p32rpvIsc-wZ",
        "colab_type": "code",
        "colab": {
          "base_uri": "https://localhost:8080/",
          "height": 204
        },
        "outputId": "8f0d616d-07ac-42d9-f11a-b9ed084330bc"
      },
      "source": [
        "model = SimpleCNN()\n",
        "\n",
        "criterion = nn.CrossEntropyLoss()\n",
        "\n",
        "optimizer = torch.optim.SGD(model.parameters(), 0.01, momentum=0.9, weight_decay=5e-4)\n",
        "\n",
        "train(0)"
      ],
      "execution_count": 21,
      "outputs": [
        {
          "output_type": "stream",
          "text": [
            "epoch 0  batch 0/937  loss 2.320\n",
            "epoch 0  batch 100/937  loss 0.275\n",
            "epoch 0  batch 200/937  loss 0.144\n",
            "epoch 0  batch 300/937  loss 0.117\n",
            "epoch 0  batch 400/937  loss 0.034\n",
            "epoch 0  batch 500/937  loss 0.219\n",
            "epoch 0  batch 600/937  loss 0.089\n",
            "epoch 0  batch 700/937  loss 0.257\n",
            "epoch 0  batch 800/937  loss 0.013\n",
            "epoch 0  batch 900/937  loss 0.170\n",
            "epoch 0  batch 937/937  loss 0.279\n"
          ],
          "name": "stdout"
        }
      ]
    },
    {
      "cell_type": "markdown",
      "metadata": {
        "id": "yTJUPqaHdEIT",
        "colab_type": "text"
      },
      "source": [
        "The first thing that you might notice is that the loss is a bit noisy. Some people choose to plot a running average of the loss to remove some of the noise.\n",
        "\n",
        "You can try how the training curve changes as we change the batch size and the learning rate.\n",
        "\n"
      ]
    },
    {
      "cell_type": "markdown",
      "metadata": {
        "id": "NVw7ZwOWRACH",
        "colab_type": "text"
      },
      "source": [
        "##6. Visualizing Filters\n",
        "\n",
        "In this section, we will look into the practical aspects and code for visualizing filters.\n",
        "\n",
        "We first create a model_weights list to save the weights of all the convolutional layers. \n",
        "\n",
        "Next, we are getting all the model children as list and storing them in the model_children list. This will allow us to easily access the hidden layers."
      ]
    },
    {
      "cell_type": "code",
      "metadata": {
        "id": "QWcRSqpsPLAS",
        "colab_type": "code",
        "colab": {}
      },
      "source": [
        "model_weights = [] # We will save the conv layer weights in this list\n",
        "\n",
        "# Get all the model children as list\n",
        "model_children = list(model.children())"
      ],
      "execution_count": 51,
      "outputs": []
    },
    {
      "cell_type": "markdown",
      "metadata": {
        "id": "C0-nKeKGQ0At",
        "colab_type": "text"
      },
      "source": [
        "We will have to traverse through all these nestings to retrieve the convolutional layers and their weights.\n",
        "\n",
        "The following code shows how to retrieve all the convolutional layers and their weights."
      ]
    },
    {
      "cell_type": "code",
      "metadata": {
        "id": "CDX5JAJDQlls",
        "colab_type": "code",
        "colab": {
          "base_uri": "https://localhost:8080/",
          "height": 34
        },
        "outputId": "4c474101-cfad-4ac0-9a02-23210489a30e"
      },
      "source": [
        "# Counter to keep count of the conv layers\n",
        "counter = 0 \n",
        "\n",
        "# Append all the conv layers and their respective weights to the list\n",
        "for i in range(len(model_children)):\n",
        "    if type(model_children[i]) == nn.Conv2d:\n",
        "        counter += 1\n",
        "        model_weights.append(model_children[i].weight)\n",
        "\n",
        "    elif type(model_children[i]) == nn.Sequential:\n",
        "        for j in range(len(model_children[i])):\n",
        "            for child in model_children[i][j].children():\n",
        "                if type(child) == nn.Conv2d:\n",
        "                    counter += 1\n",
        "                    model_weights.append(child.weight)\n",
        "\n",
        "print(f\"Total convolutional layers: {counter}\")"
      ],
      "execution_count": 52,
      "outputs": [
        {
          "output_type": "stream",
          "text": [
            "Total convolutional layers: 2\n"
          ],
          "name": "stdout"
        }
      ]
    },
    {
      "cell_type": "markdown",
      "metadata": {
        "id": "Xac-p1gUR3UI",
        "colab_type": "text"
      },
      "source": [
        "For the sake of simplicity, we will only visualize the filters of the first convolutional layer."
      ]
    },
    {
      "cell_type": "code",
      "metadata": {
        "id": "1kjC--LSQvd9",
        "colab_type": "code",
        "colab": {
          "base_uri": "https://localhost:8080/",
          "height": 202
        },
        "outputId": "e691eae3-20f9-44a3-dc7f-954b4b204e57"
      },
      "source": [
        "# Visualize the first conv layer filters\n",
        "plt.figure(figsize=(10, 10))\n",
        "for i, filter in enumerate(model_weights[0]):\n",
        "    plt.subplot(6, 6, i+1) # (6, 6) because in conv1 we have 5x5 filters and total of 10 \n",
        "    plt.imshow(filter[0, :, :].detach(), cmap='gray')\n",
        "    plt.axis('off')\n",
        "    plt.savefig('filter.png')\n",
        "plt.show()"
      ],
      "execution_count": 53,
      "outputs": [
        {
          "output_type": "display_data",
          "data": {
            "image/png": "[encoded data removed]",
            "text/plain": [
              "<Figure size 720x720 with 10 Axes>"
            ]
          },
          "metadata": {
            "tags": [],
            "needs_background": "light"
          }
        }
      ]
    },
    {
      "cell_type": "markdown",
      "metadata": {
        "id": "qtnkU2ZGgvv3",
        "colab_type": "text"
      },
      "source": [
        "## 7. Testing\n",
        "\n",
        "Let's define the test and visualize functions now."
      ]
    },
    {
      "cell_type": "code",
      "metadata": {
        "id": "lJVO2vMPb-H6",
        "colab_type": "code",
        "colab": {}
      },
      "source": [
        "def test():\n",
        "    model.eval()\n",
        "    test_loss = 0\n",
        "    correct = 0\n",
        "    with torch.no_grad():\n",
        "        for inputs, targets in test_loader:\n",
        "            outputs = model(inputs)\n",
        "            test_loss += criterion(outputs, targets).item() * inputs.size(0) # Sum up batch loss\n",
        "            preds = outputs.max(1, keepdim=True)[1] # Get the index of the max probability\n",
        "            correct += preds.eq(targets.view_as(preds)).sum().item()\n",
        "\n",
        "    test_loss /= len(test_loader.dataset)\n",
        "    print('\\nTest set: Average loss: {:.4f}, Accuracy: {}/{} ({:.2f}%)\\n'.format(\n",
        "        test_loss, correct, len(test_loader.dataset),\n",
        "        100. * correct / len(test_loader.dataset)))\n",
        "    \n",
        "    \n",
        "\n",
        "def visualize():\n",
        "    model.eval()\n",
        "    testiter = iter(test_loader)\n",
        "    inputs, targets = testiter.next()\n",
        "    \n",
        "    with torch.no_grad():\n",
        "        outputs = model(inputs)\n",
        "        preds = outputs.max(1, keepdim=True)[1]\n",
        "        print(preds.shape)\n",
        "    \n",
        "    img = torchvision.utils.make_grid(inputs)\n",
        "    imshow(img, 0.1307, 0.3081)\n",
        "    print('GT\\t:', ' '.join('%d' % targets[j].item() for j in range(len(targets))))\n",
        "    print('Pred\\t:', ' '.join('%d' % preds[j].item() for j in range(len(targets))))"
      ],
      "execution_count": 36,
      "outputs": []
    },
    {
      "cell_type": "markdown",
      "metadata": {
        "id": "8VsqMHdNdRuF",
        "colab_type": "text"
      },
      "source": [
        "Let's do the test and visualize the results on the model that we have just trained for 1 epoch."
      ]
    },
    {
      "cell_type": "code",
      "metadata": {
        "id": "zF_3vksodV2H",
        "colab_type": "code",
        "colab": {
          "base_uri": "https://localhost:8080/",
          "height": 371
        },
        "outputId": "3cf1b0d2-7dae-42a8-9df5-426486be3121"
      },
      "source": [
        "test()\n",
        "visualize()"
      ],
      "execution_count": 37,
      "outputs": [
        {
          "output_type": "stream",
          "text": [
            "\n",
            "Test set: Average loss: 0.0482, Accuracy: 9838/10000 (98.38%)\n",
            "\n",
            "torch.Size([64, 1])\n"
          ],
          "name": "stdout"
        },
        {
          "output_type": "display_data",
          "data": {
            "image/png": "[encoded data removed]",
            "text/plain": [
              "<Figure size 432x288 with 1 Axes>"
            ]
          },
          "metadata": {
            "tags": [],
            "needs_background": "light"
          }
        },
        {
          "output_type": "stream",
          "text": [
            "GT\t: 7 2 1 0 4 1 4 9 5 9 0 6 9 0 1 5 9 7 3 4 9 6 6 5 4 0 7 4 0 1 3 1 3 4 7 2 7 1 2 1 1 7 4 2 3 5 1 2 4 4 6 3 5 5 6 0 4 1 9 5 7 8 9 3\n",
            "Pred\t: 7 2 1 0 4 1 4 9 5 9 0 6 9 0 1 5 9 7 3 4 9 6 6 5 4 0 7 4 0 1 3 1 3 4 7 2 7 1 2 1 1 7 4 2 3 5 1 2 4 4 6 3 5 5 6 0 4 1 9 5 7 8 9 3\n"
          ],
          "name": "stdout"
        }
      ]
    },
    {
      "cell_type": "markdown",
      "metadata": {
        "id": "OQlreXkFchtH",
        "colab_type": "text"
      },
      "source": [
        "It seems pretty good! Let us try more epochs."
      ]
    },
    {
      "cell_type": "code",
      "metadata": {
        "id": "Eze7Vjqf7r3W",
        "colab_type": "code",
        "colab": {
          "base_uri": "https://localhost:8080/",
          "height": 1000
        },
        "outputId": "5607b0fc-6b77-4194-d854-984a0e22e48b"
      },
      "source": [
        "for epoch in range(1, 4):\n",
        "    train(epoch)\n",
        "    test()\n",
        "\n",
        "visualize()"
      ],
      "execution_count": 13,
      "outputs": [
        {
          "output_type": "stream",
          "text": [
            "epoch 1  batch 0/937  loss 0.051\n",
            "epoch 1  batch 100/937  loss 0.175\n",
            "epoch 1  batch 200/937  loss 0.006\n",
            "epoch 1  batch 300/937  loss 0.069\n",
            "epoch 1  batch 400/937  loss 0.140\n",
            "epoch 1  batch 500/937  loss 0.024\n",
            "epoch 1  batch 600/937  loss 0.035\n",
            "epoch 1  batch 700/937  loss 0.056\n",
            "epoch 1  batch 800/937  loss 0.081\n",
            "epoch 1  batch 900/937  loss 0.081\n",
            "epoch 1  batch 937/937  loss 0.146\n",
            "\n",
            "Test set: Average loss: 0.0398, Accuracy: 9873/10000 (98.73%)\n",
            "\n",
            "epoch 2  batch 0/937  loss 0.066\n",
            "epoch 2  batch 100/937  loss 0.066\n",
            "epoch 2  batch 200/937  loss 0.085\n",
            "epoch 2  batch 300/937  loss 0.034\n",
            "epoch 2  batch 400/937  loss 0.067\n",
            "epoch 2  batch 500/937  loss 0.044\n",
            "epoch 2  batch 600/937  loss 0.031\n",
            "epoch 2  batch 700/937  loss 0.143\n",
            "epoch 2  batch 800/937  loss 0.032\n",
            "epoch 2  batch 900/937  loss 0.041\n",
            "epoch 2  batch 937/937  loss 0.007\n",
            "\n",
            "Test set: Average loss: 0.0343, Accuracy: 9893/10000 (98.93%)\n",
            "\n",
            "epoch 3  batch 0/937  loss 0.019\n",
            "epoch 3  batch 100/937  loss 0.013\n",
            "epoch 3  batch 200/937  loss 0.010\n",
            "epoch 3  batch 300/937  loss 0.007\n",
            "epoch 3  batch 400/937  loss 0.003\n",
            "epoch 3  batch 500/937  loss 0.009\n",
            "epoch 3  batch 600/937  loss 0.015\n",
            "epoch 3  batch 700/937  loss 0.011\n",
            "epoch 3  batch 800/937  loss 0.064\n",
            "epoch 3  batch 900/937  loss 0.026\n",
            "epoch 3  batch 937/937  loss 0.025\n",
            "\n",
            "Test set: Average loss: 0.0337, Accuracy: 9889/10000 (98.89%)\n",
            "\n",
            "torch.Size([64, 1])\n"
          ],
          "name": "stdout"
        },
        {
          "output_type": "display_data",
          "data": {
            "image/png": "[encoded data removed]",
            "text/plain": [
              "<Figure size 432x288 with 1 Axes>"
            ]
          },
          "metadata": {
            "tags": [],
            "needs_background": "light"
          }
        },
        {
          "output_type": "stream",
          "text": [
            "GT\t: 7 2 1 0 4 1 4 9 5 9 0 6 9 0 1 5 9 7 3 4 9 6 6 5 4 0 7 4 0 1 3 1 3 4 7 2 7 1 2 1 1 7 4 2 3 5 1 2 4 4 6 3 5 5 6 0 4 1 9 5 7 8 9 3\n",
            "Pred\t: 7 2 1 0 4 1 4 9 5 9 0 6 9 0 1 5 9 7 3 4 9 6 6 5 4 0 7 4 0 1 3 1 3 4 7 2 7 1 2 1 1 7 4 2 3 5 1 2 4 4 6 3 5 5 6 0 4 1 9 5 7 8 9 3\n"
          ],
          "name": "stdout"
        }
      ]
    },
    {
      "cell_type": "markdown",
      "metadata": {
        "id": "xQKsEStLg_Vm",
        "colab_type": "text"
      },
      "source": [
        "## 8. Checkpointing\n",
        "\n",
        "Normally, we will train our neural network for not just one epoch, but many. Neural network training typically takes a long time, sometimes days, weeks, or even months. Our training code should therefore be robust to interruptions. That is, we should write our training code so that we can save and re-load weights.\n",
        "\n",
        "It is good to **checkpoint** training progress by saving the neural network parameter values and training curve data to disk, once every few epochs. The frequency of checkpointing depends on many factors, but I recommend checkpointing every 10-30 minutes for large projects, and every few minutes for smaller ones.\n",
        "\n",
        "Another advantage of checkpointing is that we now have one extra hyper-parameter we can tune for free: the **epoch** number! You may not wish to choose neural network parameter values at the end of training, and might opt to choose the parameter values at a different epoch of training.\n",
        "\n",
        "One reason you might opt to do so is to prevent **over-fitting**. If your training loss is decreasing (as training progresses), but your validation loss stays the same, then your network is beginning to learn idiosyncrasies of the training set that do not generalize. Most often, we choose the earliest epoch with the lowest validation loss or error.\n",
        "\n",
        "Saving and loading a model in PyTorch is very easy and straight forward.\n",
        "It’s as simple as this:"
      ]
    },
    {
      "cell_type": "code",
      "metadata": {
        "id": "ntuT8Le8tggf",
        "colab_type": "code",
        "colab": {}
      },
      "source": [
        "checkpoint = {'model_state_dict': model.state_dict(),\n",
        "          'optimizer_state_dict' : optimizer.state_dict()}\n",
        "\n",
        "torch.save(checkpoint, 'checkpoint.pth')"
      ],
      "execution_count": 38,
      "outputs": []
    },
    {
      "cell_type": "markdown",
      "metadata": {
        "id": "KBsrgkdKMOie",
        "colab_type": "text"
      },
      "source": [
        "Loading is as simple as saving\n",
        "\n",
        "1. Reconstruct the model from the structure saved in the checkpoint.\n",
        "2. Load the state dict to the model.\n",
        "3. Use model.eval() to freeze the parameters and enter evaluation mode if you are loading the model for inference. If you wish to resuming training, call model.train() to ensure these layers are in training mode."
      ]
    },
    {
      "cell_type": "code",
      "metadata": {
        "id": "DRL9BWQaKIr0",
        "colab_type": "code",
        "colab": {
          "base_uri": "https://localhost:8080/",
          "height": 153
        },
        "outputId": "2d8a9eea-1363-4966-f1c3-f840ec971fbe"
      },
      "source": [
        "model = SimpleCNN()\n",
        "optimizer = torch.optim.SGD(model.parameters(), 0.01, momentum=0.9, weight_decay=5e-4)\n",
        "\n",
        "checkpoint = torch.load('checkpoint.pth')\n",
        "model.load_state_dict(checkpoint['model_state_dict'])\n",
        "optimizer.load_state_dict(checkpoint['optimizer_state_dict'])\n",
        "\n",
        "model.eval()\n",
        "\n",
        "test()"
      ],
      "execution_count": 39,
      "outputs": [
        {
          "output_type": "execute_result",
          "data": {
            "text/plain": [
              "SimpleCNN(\n",
              "  (conv1): Conv2d(1, 10, kernel_size=(5, 5), stride=(1, 1))\n",
              "  (conv2): Conv2d(10, 20, kernel_size=(5, 5), stride=(1, 1))\n",
              "  (pool): MaxPool2d(kernel_size=2, stride=2, padding=0, dilation=1, ceil_mode=False)\n",
              "  (fc1): Linear(in_features=320, out_features=200, bias=True)\n",
              "  (fc2): Linear(in_features=200, out_features=10, bias=True)\n",
              "  (relu): ReLU()\n",
              ")"
            ]
          },
          "metadata": {
            "tags": []
          },
          "execution_count": 39
        }
      ]
    },
    {
      "cell_type": "markdown",
      "metadata": {
        "id": "kXdubeem7r3a",
        "colab_type": "text"
      },
      "source": [
        "## 9. What's Next?\n",
        "\n",
        "We have sketched a simple framework for training CNNs. There are a few more functions yet to be completed.\n",
        "\n",
        "  - Adjust the learning rate and batch size and observe the training curve\n",
        "  - Plot a chart for the accuracy\n",
        "  - Average the loss during each epoch when plotting a chart\n",
        "  - Consider data augmentations\n",
        "\n",
        "Please check the official [Tutorials](https://pytorch.org/tutorials) and [Examples](https://github.com/pytorch/examples) on for more details."
      ]
    }
  ]
}